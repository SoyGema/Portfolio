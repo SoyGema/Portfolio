{
 "cells": [
  {
   "cell_type": "code",
   "execution_count": 46,
   "id": "a151606b",
   "metadata": {},
   "outputs": [],
   "source": [
    "import itertools as it\n",
    "import numpy as np"
   ]
  },
  {
   "cell_type": "code",
   "execution_count": 54,
   "id": "9fc95930",
   "metadata": {},
   "outputs": [],
   "source": [
    "\n",
    "def calculate_prob(combination_matrix):\n",
    "    \"\"\"\n",
    "    Calculate the probability of sums according with the matrix combination of possiblities\n",
    "    \n",
    "    Args:\n",
    "        combination_matrix : combination of posibilities of equally distributed \n",
    "    Returns:\n",
    "        dictionary of probabilities\n",
    "    \"\"\"\n",
    "    keys_for_distribution = list(range(2,12+1))\n",
    "    dictionary_prob = dict.fromkeys(keys_for_distribution, 0)\n",
    "       \n",
    "    for i in range(0,len(combination_matrix)):\n",
    "        sum_result = sum(combination_matrix[i])\n",
    "        if sum_result in dictionary_prob.keys():\n",
    "            dictionary_prob[sum_result] += 1\n",
    "    \n",
    "    return dictionary_prob"
   ]
  },
  {
   "cell_type": "code",
   "execution_count": 55,
   "id": "dc9f97ab",
   "metadata": {},
   "outputs": [],
   "source": [
    "\n",
    "def calculate_prob_percentages(dictionary_prob,n_posibilities):\n",
    "    \"\"\"\n",
    "    Calculate the probability percentages of rolling dices\n",
    "    \n",
    "    Args:\n",
    "        dictionary_prob: dictionary of probabilities\n",
    "    Returns:\n",
    "        dictionary_percentage: dictionary of probabilities in percentage \n",
    "    \n",
    "    \"\"\"\n",
    "    dictionary_percentage = {}\n",
    "    \n",
    "    for key in dictionary_prob:\n",
    "        dictionary_percentage[key] = (dictionary_prob[key]*100)/ n_posibilities\n",
    "    return dictionary_percentage"
   ]
  },
  {
   "cell_type": "code",
   "execution_count": 56,
   "id": "443d3e3f",
   "metadata": {},
   "outputs": [],
   "source": [
    "def dice_prob(dice_start_1,dice_end_1,dice_start_2,dice_end_2):\n",
    "    \"\"\"   \n",
    "    Args :\n",
    "        dice_start_1, dice_end_1: first and last dice side with equal probs \n",
    "        dice_start_2, dice_end_2: first and last dice side with equal probs\n",
    "    \n",
    "    Returns : \n",
    "        ditionary with probability for each sum \n",
    "    \n",
    "    \"\"\"\n",
    "    dice_1 = np.arange(start = dice_start_1, stop = dice_end_1 + 1, step=1)\n",
    "    dice_2 = np.arange(start = dice_start_2, stop = dice_end_2 + 1, step=1)\n",
    "    \n",
    "    n_posibilities = len(dice_1) * len(dice_2)\n",
    "    \n",
    "    combination_matrix = np.array(np.meshgrid(dice_1, dice_2)).T.reshape(-1,2)\n",
    "\n",
    "    dictionary_prob = calculate_prob(combination_matrix)\n",
    "    dictionary_prob_percentages = calculate_prob_percentages(dictionary_prob, n_posibilities)\n",
    "           \n",
    "    return dictionary_prob_percentages"
   ]
  },
  {
   "cell_type": "code",
   "execution_count": 57,
   "id": "f3da4244",
   "metadata": {},
   "outputs": [
    {
     "data": {
      "text/plain": [
       "{2: 2.7777777777777777,\n",
       " 3: 5.555555555555555,\n",
       " 4: 8.333333333333334,\n",
       " 5: 11.11111111111111,\n",
       " 6: 13.88888888888889,\n",
       " 7: 16.666666666666668,\n",
       " 8: 13.88888888888889,\n",
       " 9: 11.11111111111111,\n",
       " 10: 8.333333333333334,\n",
       " 11: 5.555555555555555,\n",
       " 12: 2.7777777777777777}"
      ]
     },
     "execution_count": 57,
     "metadata": {},
     "output_type": "execute_result"
    }
   ],
   "source": [
    "dice_prob(1,6,1,6)"
   ]
  },
  {
   "cell_type": "code",
   "execution_count": 58,
   "id": "95a0c810",
   "metadata": {},
   "outputs": [],
   "source": [
    "prob_dice = dice_prob(1,6,2,5)"
   ]
  },
  {
   "cell_type": "code",
   "execution_count": 59,
   "id": "8df10b80",
   "metadata": {},
   "outputs": [
    {
     "data": {
      "text/plain": [
       "{2: 0.0,\n",
       " 3: 4.166666666666667,\n",
       " 4: 8.333333333333334,\n",
       " 5: 12.5,\n",
       " 6: 16.666666666666668,\n",
       " 7: 16.666666666666668,\n",
       " 8: 16.666666666666668,\n",
       " 9: 12.5,\n",
       " 10: 8.333333333333334,\n",
       " 11: 4.166666666666667,\n",
       " 12: 0.0}"
      ]
     },
     "execution_count": 59,
     "metadata": {},
     "output_type": "execute_result"
    }
   ],
   "source": [
    "prob_dice"
   ]
  },
  {
   "cell_type": "code",
   "execution_count": 65,
   "id": "4347ecfa",
   "metadata": {},
   "outputs": [],
   "source": [
    "def dice_game(prob_dice, first_roll):\n",
    "    \"\"\"\n",
    "    Arguments : prob_dice , first_roll ) \n",
    "    \n",
    "    \n",
    "    \n",
    "    Returns : Probability of winning\n",
    "    \n",
    "    \"\"\"\n",
    "    prob_win = prob_dice.get(7) + prob_dice.get(11)\n",
    "    prob_loss = prob_dice.get(2) + prob_dice.get(3) + prob_dice.get(12)\n",
    "    \n",
    "    if first_roll == 7 or first_roll == 11:\n",
    "        print('YOU WON in the first roll')\n",
    "        print('probability of winning on first roll is',prob_win)\n",
    "        \n",
    "    elif first_roll == 2 or first_roll == 3 or first_roll == 12:\n",
    "        print('YOU LOSS in the first roll')\n",
    "        print('probability of crapping out on first roll is ',prob_loss)\n",
    "        \n",
    "    else:\n",
    "\n",
    "        prob_reroll = 100 - prob_win - prob_loss\n",
    "        new_prob_loss = prob_dice.get(7) / prob_reroll \n",
    "        print('probability of losing in the second roll is',new_prob_loss)\n",
    "            \n",
    "        new_prob_win = prob_dice.get(first_roll) / prob_reroll\n",
    "        print('probability of winning in the second roll is', new_prob_win)"
   ]
  },
  {
   "cell_type": "code",
   "execution_count": 66,
   "id": "8dbfa2e3",
   "metadata": {},
   "outputs": [
    {
     "name": "stdout",
     "output_type": "stream",
     "text": [
      "YOU WON in the first roll\n",
      "probability of winning on first roll is 20.833333333333336\n"
     ]
    }
   ],
   "source": [
    "dice_game(prob_dice,7)"
   ]
  },
  {
   "cell_type": "code",
   "execution_count": 67,
   "id": "0eabae01",
   "metadata": {},
   "outputs": [
    {
     "name": "stdout",
     "output_type": "stream",
     "text": [
      "YOU LOSS in the first roll\n",
      "probability of crapping out on first roll is  4.166666666666667\n"
     ]
    }
   ],
   "source": [
    "dice_game(prob_dice,2)"
   ]
  },
  {
   "cell_type": "code",
   "execution_count": 74,
   "id": "e47c8329",
   "metadata": {},
   "outputs": [
    {
     "name": "stdout",
     "output_type": "stream",
     "text": [
      "74.99999999999999\n",
      "probability of losing in the second roll is 0.2222222222222223\n",
      "probability of winning in the second roll is 0.11111111111111115\n"
     ]
    }
   ],
   "source": [
    "dice_game(prob_dice,10)"
   ]
  },
  {
   "cell_type": "code",
   "execution_count": null,
   "id": "18b2dba0",
   "metadata": {},
   "outputs": [],
   "source": []
  }
 ],
 "metadata": {
  "kernelspec": {
   "display_name": ".venv",
   "language": "python",
   "name": ".venv"
  },
  "language_info": {
   "codemirror_mode": {
    "name": "ipython",
    "version": 3
   },
   "file_extension": ".py",
   "mimetype": "text/x-python",
   "name": "python",
   "nbconvert_exporter": "python",
   "pygments_lexer": "ipython3",
   "version": "3.8.0"
  }
 },
 "nbformat": 4,
 "nbformat_minor": 5
}
